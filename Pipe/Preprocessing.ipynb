{
 "cells": [
  {
   "cell_type": "code",
   "execution_count": 2,
   "metadata": {},
   "outputs": [],
   "source": [
    "methods = list()\n",
    "\n",
    "def add_to_methods(func):\n",
    "    methods.append(func)"
   ]
  },
  {
   "cell_type": "code",
   "execution_count": 3,
   "metadata": {},
   "outputs": [],
   "source": [
    "# Example preprocessing routine\n",
    "# Takes a dataframe, and returns the updated data-frame's reference\n",
    "@add_to_methods\n",
    "def do_nothing(data):\n",
    "    return data"
   ]
  },
  {
   "cell_type": "code",
   "execution_count": null,
   "metadata": {},
   "outputs": [],
   "source": [
    "# Comment on next one"
   ]
  },
  {
   "cell_type": "code",
   "execution_count": 1,
   "metadata": {},
   "outputs": [],
   "source": [
    "# Preprocess\n",
    "# Specify the list of routines to apply as strings\n",
    "def preprocess(data, *which):\n",
    "    local = data\n",
    "    if(len(which) == 0):\n",
    "        for method in methods:\n",
    "            local = method(local)\n",
    "    else:\n",
    "        if \"do_nothing\" in which:\n",
    "            local = do_nothing(local)\n",
    "        # ...\n",
    "    return local"
   ]
  },
  {
   "cell_type": "code",
   "execution_count": null,
   "metadata": {},
   "outputs": [],
   "source": []
  }
 ],
 "metadata": {
  "kernelspec": {
   "display_name": "Python 3",
   "language": "python",
   "name": "python3"
  },
  "language_info": {
   "codemirror_mode": {
    "name": "ipython",
    "version": 3
   },
   "file_extension": ".py",
   "mimetype": "text/x-python",
   "name": "python",
   "nbconvert_exporter": "python",
   "pygments_lexer": "ipython3",
   "version": "3.8.8"
  }
 },
 "nbformat": 4,
 "nbformat_minor": 4
}
