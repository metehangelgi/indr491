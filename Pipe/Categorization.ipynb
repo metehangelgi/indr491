{
 "cells": [
  {
   "cell_type": "code",
   "execution_count": 5,
   "metadata": {},
   "outputs": [],
   "source": [
    "categories = dict()# HashMap of categories, pandas dataframe daha iyi olur\n",
    "method_list = list()"
   ]
  },
  {
   "cell_type": "code",
   "execution_count": null,
   "metadata": {},
   "outputs": [],
   "source": [
    "def method_wrapper(func):\n",
    "    method_list.append(func)\n",
    "    return func"
   ]
  },
  {
   "cell_type": "code",
   "execution_count": 6,
   "metadata": {},
   "outputs": [],
   "source": [
    "# Adds abc categorization column to category dataframe\n",
    "@method_wrapper\n",
    "def abc():\n",
    "    pass"
   ]
  },
  {
   "cell_type": "code",
   "execution_count": 3,
   "metadata": {},
   "outputs": [],
   "source": [
    "# Adds sbc categorization column to category dataframe\n",
    "@method_wrapper\n",
    "def sbc():\n",
    "    pass\n",
    "method_list.append(sbc)"
   ]
  },
  {
   "cell_type": "code",
   "execution_count": 4,
   "metadata": {},
   "outputs": [],
   "source": [
    "@method_wrapper\n",
    "def slow_fast_moving():\n",
    "    pass\n",
    "method_list.append(abc)"
   ]
  },
  {
   "cell_type": "code",
   "execution_count": null,
   "metadata": {},
   "outputs": [],
   "source": [
    "# Categorizes the data\n",
    "# Positional vs sırası kontrol edilmesi gerekebilir unuttum\n",
    "def categorize(data, *scheme):\n",
    "    if not scheme: # Check if list is null\n",
    "        for method in method_list:\n",
    "            method(data)\n",
    "    else:\n",
    "        if \"ABC\" in scheme:\n",
    "            abc(data)\n",
    "        if \"SBC\" in scheme:\n",
    "            sbc(data)\n",
    "        if \"Slow-Fast\" in scheme:\n",
    "            slow_fast_moving()\n",
    "    \n",
    "    return category"
   ]
  },
  {
   "cell_type": "code",
   "execution_count": null,
   "metadata": {},
   "outputs": [],
   "source": [
    "# Returns the product ids for matching category combination\n",
    "# e.g. filter_for_categoty(\"ABC\"=\"A\", \"SPC\"=\"intermittent\") \n",
    "# returns the product ids that belong to A and intermittent\n",
    "def filter_for_category(**categories, size=10):\n",
    "    ids = list() #list of product ids\n",
    "    pass"
   ]
  }
 ],
 "metadata": {
  "kernelspec": {
   "display_name": "Python 3",
   "language": "python",
   "name": "python3"
  },
  "language_info": {
   "codemirror_mode": {
    "name": "ipython",
    "version": 3
   },
   "file_extension": ".py",
   "mimetype": "text/x-python",
   "name": "python",
   "nbconvert_exporter": "python",
   "pygments_lexer": "ipython3",
   "version": "3.8.10"
  }
 },
 "nbformat": 4,
 "nbformat_minor": 4
}
